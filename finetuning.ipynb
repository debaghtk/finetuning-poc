{
  "cells": [
    {
      "cell_type": "markdown",
      "metadata": {
        "colab_type": "text",
        "id": "view-in-github"
      },
      "source": [
        "<a href=\"https://colab.research.google.com/github/debaghtk/finetuning-poc/blob/main/finetuning.ipynb\" target=\"_parent\"><img src=\"https://colab.research.google.com/assets/colab-badge.svg\" alt=\"Open In Colab\"/></a>"
      ]
    },
    {
      "cell_type": "markdown",
      "metadata": {
        "id": "KnyVikU_eMWI"
      },
      "source": [
        "https://colab.research.google.com/github/huggingface/notebooks/blob/main/peft_docs/en/tensorflow/clm-prompt-tuning.ipynb#scrollTo=buySkzBqU1zS"
      ]
    },
    {
      "cell_type": "code",
      "execution_count": null,
      "metadata": {
        "id": "roEnmevNTick"
      },
      "outputs": [],
      "source": [
        "!pip install transformers datasets\n"
      ]
    },
    {
      "cell_type": "markdown",
      "metadata": {
        "id": "8YyoAb8KVie4"
      },
      "source": [
        "download model and dataset"
      ]
    },
    {
      "cell_type": "code",
      "execution_count": 29,
      "metadata": {
        "id": "iN24gKaoVdDv"
      },
      "outputs": [],
      "source": [
        "from transformers import AutoModelForCausalLM as AutoModel, AutoTokenizer\n",
        "from datasets import load_dataset\n",
        "\n",
        "model_name = \"bigscience/bloomz-560m\"\n",
        "\n",
        "model = AutoModel.from_pretrained(model_name)\n",
        "tokenizer = AutoTokenizer.from_pretrained(model_name)\n",
        "\n",
        "dataset = load_dataset(\"ought/raft\", \"twitter_complaints\")"
      ]
    },
    {
      "cell_type": "markdown",
      "metadata": {
        "id": "RphtvNMicliL"
      },
      "source": [
        "doing inference like TDD"
      ]
    },
    {
      "cell_type": "code",
      "execution_count": 44,
      "metadata": {
        "id": "pe9tkEi0eXjp"
      },
      "outputs": [
        {
          "name": "stdout",
          "output_type": "stream",
          "text": [
            "['Tweet text: @nationalgridus I have no water and the bill is current and paid. Can you do something about it? Label: National']\n"
          ]
        }
      ],
      "source": [
        "inputs = tokenizer(\n",
        "    \"Tweet text: @nationalgridus I have no water and the bill is current and paid. Can you do something about it? Label:\",\n",
        "    return_tensors=\"pt\",\n",
        ")\n",
        "\n",
        "output = model.generate(**inputs)\n",
        "print(tokenizer.batch_decode(output, skip_special_tokens=True))"
      ]
    },
    {
      "cell_type": "markdown",
      "metadata": {},
      "source": [
        "preprocessing of the data"
      ]
    },
    {
      "cell_type": "code",
      "execution_count": null,
      "metadata": {},
      "outputs": [],
      "source": [
        "dataset[\"train\"][0]\n",
        "classes = [k.replace(\"_\", \" \") for k in dataset[\"train\"].features[\"Label\"].names]\n",
        "print(type(dataset))\n",
        "dataset = dataset.map(\n",
        "    #add key text label to the dataset\n",
        "    lambda x: {\"text_label\": f'{classes[x[\"Label\"]]}'},\n",
        ")\n",
        "print(dataset[\"train\"][0])"
      ]
    }
  ],
  "metadata": {
    "accelerator": "GPU",
    "colab": {
      "gpuType": "V100",
      "include_colab_link": true,
      "provenance": []
    },
    "kernelspec": {
      "display_name": "Python 3",
      "name": "python3"
    },
    "language_info": {
      "codemirror_mode": {
        "name": "ipython",
        "version": 3
      },
      "file_extension": ".py",
      "mimetype": "text/x-python",
      "name": "python",
      "nbconvert_exporter": "python",
      "pygments_lexer": "ipython3",
      "version": "3.9.9"
    },
    "orig_nbformat": 4
  },
  "nbformat": 4,
  "nbformat_minor": 0
}
