{
  "cells": [
    {
      "cell_type": "markdown",
      "metadata": {
        "id": "view-in-github",
        "colab_type": "text"
      },
      "source": [
        "<a href=\"https://colab.research.google.com/github/debaghtk/finetuning-poc/blob/main/finetuning.ipynb\" target=\"_parent\"><img src=\"https://colab.research.google.com/assets/colab-badge.svg\" alt=\"Open In Colab\"/></a>"
      ]
    },
    {
      "cell_type": "markdown",
      "source": [
        "https://colab.research.google.com/github/huggingface/notebooks/blob/main/peft_docs/en/tensorflow/clm-prompt-tuning.ipynb#scrollTo=buySkzBqU1zS"
      ],
      "metadata": {
        "id": "KnyVikU_eMWI"
      }
    },
    {
      "cell_type": "code",
      "execution_count": null,
      "metadata": {
        "id": "roEnmevNTick"
      },
      "outputs": [],
      "source": [
        "!pip install transformers datasets"
      ]
    },
    {
      "cell_type": "markdown",
      "source": [
        "download model and dataset"
      ],
      "metadata": {
        "id": "8YyoAb8KVie4"
      }
    },
    {
      "cell_type": "code",
      "source": [
        "from transformers import AutoModel as AutoModel, AutoTokenizer\n",
        "from datasets import load_dataset\n",
        "\n",
        "model_name = \"bigscience/bloomz-560m\"\n",
        "model = AutoModel.from_pretrained(model_name)\n",
        "tokenizer = AutoTokenizer.from_pretrained(model_name)\n",
        "\n",
        "dataset = load_dataset(\"ought/raft\", \"twitter_complaints\")"
      ],
      "metadata": {
        "id": "iN24gKaoVdDv"
      },
      "execution_count": 14,
      "outputs": []
    },
    {
      "cell_type": "markdown",
      "source": [
        "doing inference like TDD"
      ],
      "metadata": {
        "id": "RphtvNMicliL"
      }
    },
    {
      "cell_type": "code",
      "source": [
        "inputs = tokenizer(\n",
        "    \"@nationalgridus I have no water and the bill is current and paid. Can you do something about this?\",\n",
        "    return_tensors=\"pt\",\n",
        ")\n",
        "\n",
        "output = model(**inputs)\n",
        "print(type(output.logits))"
      ],
      "metadata": {
        "id": "pe9tkEi0eXjp"
      },
      "execution_count": null,
      "outputs": []
    }
  ],
  "metadata": {
    "language_info": {
      "name": "python"
    },
    "orig_nbformat": 4,
    "colab": {
      "provenance": [],
      "gpuType": "V100",
      "include_colab_link": true
    },
    "kernelspec": {
      "name": "python3",
      "display_name": "Python 3"
    },
    "accelerator": "GPU"
  },
  "nbformat": 4,
  "nbformat_minor": 0
}