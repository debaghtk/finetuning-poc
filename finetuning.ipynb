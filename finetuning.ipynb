{
  "cells": [
    {
      "cell_type": "markdown",
      "metadata": {
        "id": "view-in-github",
        "colab_type": "text"
      },
      "source": [
        "<a href=\"https://colab.research.google.com/github/debaghtk/finetuning-poc/blob/main/finetuning.ipynb\" target=\"_parent\"><img src=\"https://colab.research.google.com/assets/colab-badge.svg\" alt=\"Open In Colab\"/></a>"
      ]
    },
    {
      "cell_type": "code",
      "execution_count": null,
      "metadata": {
        "id": "roEnmevNTick"
      },
      "outputs": [],
      "source": [
        "%pip install transformers datasets torch accelerate pprint"
      ]
    },
    {
      "cell_type": "markdown",
      "metadata": {
        "id": "8YyoAb8KVie4"
      },
      "source": [
        "download model tokenizer and dataset"
      ]
    },
    {
      "cell_type": "code",
      "execution_count": null,
      "metadata": {
        "id": "iN24gKaoVdDv"
      },
      "outputs": [],
      "source": [
        "from transformers import AutoModelForCausalLM as AutoModel, AutoTokenizer\n",
        "from datasets import load_dataset\n",
        "\n",
        "model_name = \"bigscience/bloomz-560m\"\n",
        "\n",
        "model = AutoModel.from_pretrained(model_name)\n",
        "tokenizer = AutoTokenizer.from_pretrained(model_name)\n",
        "dataset = load_dataset(\"ought/raft\", \"twitter_complaints\")"
      ]
    },
    {
      "cell_type": "markdown",
      "metadata": {
        "id": "RphtvNMicliL"
      },
      "source": [
        "doing inference like TDD"
      ]
    },
    {
      "cell_type": "code",
      "execution_count": null,
      "metadata": {
        "id": "pe9tkEi0eXjp"
      },
      "outputs": [],
      "source": [
        "inputs = tokenizer(\n",
        "    \"Tweet text: @nationalgridus I have no water and the bill is current and paid. Can you do something about it? Label:\",\n",
        "    padding=True,\n",
        "    max_length=64,\n",
        "    truncation=True,\n",
        "    return_tensors=\"pt\",\n",
        ")\n",
        "\n",
        "output = model.generate(**inputs)\n",
        "print(tokenizer.batch_decode(output, skip_special_tokens=True))"
      ]
    },
    {
      "cell_type": "markdown",
      "metadata": {
        "id": "RaVwUAn-DVPe"
      },
      "source": [
        "preprocessing of the data\n",
        "- add text_label key, values - complaint, no complaint"
      ]
    },
    {
      "cell_type": "code",
      "execution_count": null,
      "metadata": {
        "id": "-nAvXDNuDVPf"
      },
      "outputs": [],
      "source": [
        "dataset = load_dataset(\"ought/raft\", \"twitter_complaints\")\n",
        "classes = [k.replace(\"_\", \" \") for k in dataset[\"train\"].features[\"Label\"].names]\n",
        "dataset = dataset.map(\n",
        "    lambda x: {\"label_ids\": tokenizer(classes[x[\"Label\"]], pad_to_max_length=True, max_length=64)[\"input_ids\"]},\n",
        ")\n",
        "dataset = dataset.map(\n",
        "    lambda x: {\"model_input\": f'Tweet text: {x[\"Tweet text\"]}, Label:'},\n",
        ")\n",
        "dataset = dataset.remove_columns([\"Label\"])\n",
        "# dataset = dataset.remove_columns([\"Labels\"])\n",
        "# dataset = dataset.remove_columns([\"labels\"])\n",
        "# dataset = dataset.remove_columns([\"label\"])\n",
        "for i in range(len(dataset[\"test\"])):\n",
        "  if len(dataset[\"test\"][i][\"label_ids\"])!=64:\n",
        "    print(\"gadbad\")"
      ]
    },
    {
      "cell_type": "markdown",
      "metadata": {
        "id": "8pcHj2SFDVPf"
      },
      "source": [
        "tokenize data"
      ]
    },
    {
      "cell_type": "code",
      "execution_count": null,
      "metadata": {
        "id": "QvSlyKy9DVPg"
      },
      "outputs": [],
      "source": [
        "dataset = dataset.map(\n",
        "    lambda x: tokenizer(x[\"model_input\"], pad_to_max_length=True, max_length=64),\n",
        "    batched=True,\n",
        ")\n",
        "for i in range(len(dataset[\"train\"])):\n",
        "  if len(dataset[\"train\"][i][\"input_ids\"])!=len(dataset[\"train\"][i][\"label_ids\"]):\n",
        "    print(\"gadbad\")"
      ]
    },
    {
      "cell_type": "markdown",
      "metadata": {
        "id": "8I9bb29oDVPg"
      },
      "source": [
        "split data into train, test, validation"
      ]
    },
    {
      "cell_type": "code",
      "execution_count": null,
      "metadata": {
        "id": "gxbCCgRNDVPh"
      },
      "outputs": [],
      "source": [
        "train_dataset = tokenized_dataset[\"train\"]\n",
        "test_dataset = tokenized_dataset[\"test\"]"
      ]
    },
    {
      "cell_type": "markdown",
      "metadata": {
        "id": "UEaCKhxtDVPh"
      },
      "source": [
        "training arguments"
      ]
    },
    {
      "cell_type": "code",
      "execution_count": null,
      "metadata": {
        "id": "b6--KD2PDVPh"
      },
      "outputs": [],
      "source": [
        "from transformers import TrainingArguments, trainer\n",
        "import torch\n",
        "\n",
        "model.to(torch.device(\"cpu\"))\n",
        "training_args = TrainingArguments(\n",
        "    num_train_epochs=3,\n",
        "    output_dir=\"results\",\n",
        ")\n",
        "\n",
        "trainer = trainer.Trainer(\n",
        "    model=model,\n",
        "    args=training_args,\n",
        "    train_dataset=train_dataset,\n",
        "    eval_dataset=test_dataset,\n",
        ")\n",
        "\n",
        "trainer.train()"
      ]
    }
  ],
  "metadata": {
    "colab": {
      "provenance": [],
      "include_colab_link": true
    },
    "kernelspec": {
      "display_name": "Python 3",
      "name": "python3"
    },
    "language_info": {
      "codemirror_mode": {
        "name": "ipython",
        "version": 3
      },
      "file_extension": ".py",
      "mimetype": "text/x-python",
      "name": "python",
      "nbconvert_exporter": "python",
      "pygments_lexer": "ipython3",
      "version": "3.9.9"
    },
    "orig_nbformat": 4
  },
  "nbformat": 4,
  "nbformat_minor": 0
}